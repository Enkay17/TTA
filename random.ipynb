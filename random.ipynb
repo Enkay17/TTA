{
 "cells": [
  {
   "cell_type": "code",
   "execution_count": 1,
   "metadata": {},
   "outputs": [
    {
     "name": "stdout",
     "output_type": "stream",
     "text": [
      "Hello Worls\n"
     ]
    }
   ],
   "source": [
    "print(\"Hello Worls\")"
   ]
  }
 ],
 "metadata": {
  "interpreter": {
   "hash": "5150b2b314c6f8a5bdaf9797b1f51b5ca33361a6825d6ff0634213c18c45851e"
  },
  "kernelspec": {
   "display_name": "Python 3.10.2 64-bit",
   "language": "python",
   "name": "python3"
  },
  "language_info": {
   "codemirror_mode": {
    "name": "ipython",
    "version": 3
   },
   "file_extension": ".py",
   "mimetype": "text/x-python",
   "name": "python",
   "nbconvert_exporter": "python",
   "pygments_lexer": "ipython3",
   "version": "3.10.2"
  },
  "orig_nbformat": 4
 },
 "nbformat": 4,
 "nbformat_minor": 2
}
